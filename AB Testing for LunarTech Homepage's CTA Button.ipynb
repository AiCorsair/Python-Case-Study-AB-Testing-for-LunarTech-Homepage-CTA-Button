{
 "cells": [
  {
   "cell_type": "markdown",
   "metadata": {},
   "source": [
    "# A/B Testing for LunarTech Homepage's CTA Button"
   ]
  },
  {
   "cell_type": "markdown",
   "metadata": {},
   "source": [
    "## Table of Contents"
   ]
  },
  {
   "cell_type": "markdown",
   "metadata": {},
   "source": [
    "- [1. Loading & Exploring Data](#1.-Loading-&-Exploring-Data)\n",
    "- [2. Setting Parameters & Calculating Group Statistics](#2.-Setting-Parameters-&-Calculating-Group-Statistics)\n",
    "- [3. Calculating Estimates & Z-Test Values](#3.-Calculating-Estimates-&-Z-Test-Values)\n",
    "- [4. Checking & Visualizing Statistical Significance](#4.-Checking-&-Visualizing-Statistical-Significance)\n",
    "- [5. Checking Practical Significance](#5.-Checking-Practical-Significance)"
   ]
  },
  {
   "cell_type": "markdown",
   "metadata": {
    "id": "h0Z_-FKQiHrU"
   },
   "source": [
    "## 1. Loading & Exploring Data"
   ]
  },
  {
   "cell_type": "code",
   "execution_count": 1,
   "metadata": {
    "colab": {
     "base_uri": "https://localhost:8080/"
    },
    "id": "Wop0B2QNMtuw",
    "outputId": "cccd24cc-2d5b-444f-82fa-50b4f31932b6"
   },
   "outputs": [
    {
     "data": {
      "text/html": [
       "<div>\n",
       "<style scoped>\n",
       "    .dataframe tbody tr th:only-of-type {\n",
       "        vertical-align: middle;\n",
       "    }\n",
       "\n",
       "    .dataframe tbody tr th {\n",
       "        vertical-align: top;\n",
       "    }\n",
       "\n",
       "    .dataframe thead th {\n",
       "        text-align: right;\n",
       "    }\n",
       "</style>\n",
       "<table border=\"1\" class=\"dataframe\">\n",
       "  <thead>\n",
       "    <tr style=\"text-align: right;\">\n",
       "      <th></th>\n",
       "      <th>user_id</th>\n",
       "      <th>click</th>\n",
       "      <th>group</th>\n",
       "      <th>timestamp</th>\n",
       "    </tr>\n",
       "  </thead>\n",
       "  <tbody>\n",
       "    <tr>\n",
       "      <th>0</th>\n",
       "      <td>1</td>\n",
       "      <td>1</td>\n",
       "      <td>exp</td>\n",
       "      <td>2024-01-01 00:00:00</td>\n",
       "    </tr>\n",
       "    <tr>\n",
       "      <th>1</th>\n",
       "      <td>2</td>\n",
       "      <td>0</td>\n",
       "      <td>exp</td>\n",
       "      <td>2024-01-01 00:01:00</td>\n",
       "    </tr>\n",
       "    <tr>\n",
       "      <th>2</th>\n",
       "      <td>3</td>\n",
       "      <td>1</td>\n",
       "      <td>exp</td>\n",
       "      <td>2024-01-01 00:02:00</td>\n",
       "    </tr>\n",
       "    <tr>\n",
       "      <th>3</th>\n",
       "      <td>4</td>\n",
       "      <td>0</td>\n",
       "      <td>exp</td>\n",
       "      <td>2024-01-01 00:03:00</td>\n",
       "    </tr>\n",
       "    <tr>\n",
       "      <th>4</th>\n",
       "      <td>5</td>\n",
       "      <td>1</td>\n",
       "      <td>exp</td>\n",
       "      <td>2024-01-01 00:04:00</td>\n",
       "    </tr>\n",
       "  </tbody>\n",
       "</table>\n",
       "</div>"
      ],
      "text/plain": [
       "   user_id  click group            timestamp\n",
       "0        1      1   exp  2024-01-01 00:00:00\n",
       "1        2      0   exp  2024-01-01 00:01:00\n",
       "2        3      1   exp  2024-01-01 00:02:00\n",
       "3        4      0   exp  2024-01-01 00:03:00\n",
       "4        5      1   exp  2024-01-01 00:04:00"
      ]
     },
     "execution_count": 1,
     "metadata": {},
     "output_type": "execute_result"
    }
   ],
   "source": [
    "# Import libraries for statistical analysis and visualization\n",
    "from scipy.stats import norm\n",
    "import pandas as pd\n",
    "import numpy as np\n",
    "import matplotlib.pyplot as plt\n",
    "import seaborn as sns\n",
    "\n",
    "\n",
    "# Load and display the first few rows of the A/B test data\n",
    "ab_test = pd.read_csv('User_Data.csv')\n",
    "ab_test.head()"
   ]
  },
  {
   "cell_type": "code",
   "execution_count": 2,
   "metadata": {},
   "outputs": [
    {
     "data": {
      "text/html": [
       "<div>\n",
       "<style scoped>\n",
       "    .dataframe tbody tr th:only-of-type {\n",
       "        vertical-align: middle;\n",
       "    }\n",
       "\n",
       "    .dataframe tbody tr th {\n",
       "        vertical-align: top;\n",
       "    }\n",
       "\n",
       "    .dataframe thead th {\n",
       "        text-align: right;\n",
       "    }\n",
       "</style>\n",
       "<table border=\"1\" class=\"dataframe\">\n",
       "  <thead>\n",
       "    <tr style=\"text-align: right;\">\n",
       "      <th></th>\n",
       "      <th>user_id</th>\n",
       "      <th>click</th>\n",
       "    </tr>\n",
       "  </thead>\n",
       "  <tbody>\n",
       "    <tr>\n",
       "      <th>count</th>\n",
       "      <td>20000.000000</td>\n",
       "      <td>20000.000000</td>\n",
       "    </tr>\n",
       "    <tr>\n",
       "      <th>mean</th>\n",
       "      <td>10000.500000</td>\n",
       "      <td>0.405250</td>\n",
       "    </tr>\n",
       "    <tr>\n",
       "      <th>std</th>\n",
       "      <td>5773.647028</td>\n",
       "      <td>0.490953</td>\n",
       "    </tr>\n",
       "    <tr>\n",
       "      <th>min</th>\n",
       "      <td>1.000000</td>\n",
       "      <td>0.000000</td>\n",
       "    </tr>\n",
       "    <tr>\n",
       "      <th>25%</th>\n",
       "      <td>5000.750000</td>\n",
       "      <td>0.000000</td>\n",
       "    </tr>\n",
       "    <tr>\n",
       "      <th>50%</th>\n",
       "      <td>10000.500000</td>\n",
       "      <td>0.000000</td>\n",
       "    </tr>\n",
       "    <tr>\n",
       "      <th>75%</th>\n",
       "      <td>15000.250000</td>\n",
       "      <td>1.000000</td>\n",
       "    </tr>\n",
       "    <tr>\n",
       "      <th>max</th>\n",
       "      <td>20000.000000</td>\n",
       "      <td>1.000000</td>\n",
       "    </tr>\n",
       "  </tbody>\n",
       "</table>\n",
       "</div>"
      ],
      "text/plain": [
       "            user_id         click\n",
       "count  20000.000000  20000.000000\n",
       "mean   10000.500000      0.405250\n",
       "std     5773.647028      0.490953\n",
       "min        1.000000      0.000000\n",
       "25%     5000.750000      0.000000\n",
       "50%    10000.500000      0.000000\n",
       "75%    15000.250000      1.000000\n",
       "max    20000.000000      1.000000"
      ]
     },
     "metadata": {},
     "output_type": "display_data"
    },
    {
     "data": {
      "text/plain": [
       "group\n",
       "con    1989\n",
       "exp    6116\n",
       "Name: click, dtype: int64"
      ]
     },
     "metadata": {},
     "output_type": "display_data"
    }
   ],
   "source": [
    "# Display summary statistics and total clicks by group\n",
    "display(ab_test.describe())\n",
    "display(ab_test.groupby(\"group\")[\"click\"].sum(\"click\"))"
   ]
  },
  {
   "cell_type": "code",
   "execution_count": 3,
   "metadata": {
    "colab": {
     "base_uri": "https://localhost:8080/",
     "height": 676
    },
    "id": "dX7gSKU_NPHw",
    "outputId": "4aff91ea-f78a-4bed-ae55-066b86e31bbd"
   },
   "outputs": [
    {
     "data": {
      "image/png": "[encoded data removed]",
      "text/plain": [
       "<Figure size 640x480 with 1 Axes>"
      ]
     },
     "metadata": {},
     "output_type": "display_data"
    }
   ],
   "source": [
    "# Plot count of clicks in experimental vs. control groups\n",
    "plt.figure()\n",
    "ax = sns.countplot(data=ab_test, x='group', hue='click', palette={0: '#6C2F41', 1: '#3062A8'})\n",
    "\n",
    "plt.title('Clicks & Non-Clicks in Experimental vs. Control Groups', weight='bold')\n",
    "plt.ylabel('Count')\n",
    "plt.xlabel('')\n",
    "plt.legend(title='Clicked', labels=['No', 'Yes'])\n",
    "\n",
    "ax.set_xticks([0, 1])\n",
    "ax.set_xticklabels(['Experimental', 'Control'])\n",
    "\n",
    "\n",
    "# Annotate bars with percentage of clicks and non-clicks for each group\n",
    "group_counts = ab_test.groupby('group')['user_id'].count()\n",
    "\n",
    "for bar in ax.patches:\n",
    "    bar_height = bar.get_height()\n",
    "    \n",
    "    if bar_height > 0:\n",
    "        position = (bar.get_width() / 2) + bar.get_x()\n",
    "        group_label = ab_test['group'].unique()[int(bar.get_x())]\n",
    "        \n",
    "        percentage = f\"{bar_height / group_counts.loc[group_label] * 100:.2f}%\"\n",
    "        ax.annotate(percentage, (position, bar_height), ha='center', va='bottom', color='black', fontsize=10)\n",
    "\n",
    "plt.show()"
   ]
  },
  {
   "cell_type": "markdown",
   "metadata": {
    "id": "sycu9LbEiF4A"
   },
   "source": [
    "## 2. Setting Parameters & Calculating Group Statistics"
   ]
  },
  {
   "cell_type": "code",
   "execution_count": 4,
   "metadata": {
    "colab": {
     "base_uri": "https://localhost:8080/"
    },
    "id": "L44vjfFNi3qJ",
    "outputId": "625c6d05-7d84-45fd-f7bc-716933edf828"
   },
   "outputs": [
    {
     "name": "stdout",
     "output_type": "stream",
     "text": [
      "Significance level (α): 0.05\n",
      "Minimum detectable effect (δ): 0.1\n"
     ]
    }
   ],
   "source": [
    "# Set and display significance level and minimum detectable effect\n",
    "alpha = 0.05\n",
    "delta = 0.1\n",
    "\n",
    "print(\"Significance level (α):\", alpha)\n",
    "print(\"Minimum detectable effect (δ):\", delta)"
   ]
  },
  {
   "cell_type": "code",
   "execution_count": 5,
   "metadata": {
    "colab": {
     "base_uri": "https://localhost:8080/"
    },
    "id": "yr9CCs_Th1gJ",
    "outputId": "2bf69279-c218-40ac-9837-d1e5d0ad6b6a"
   },
   "outputs": [
    {
     "name": "stdout",
     "output_type": "stream",
     "text": [
      "Number of users in control group: 10000\n",
      "Number of users in experimental group: 10000\n",
      "Total clicks in control group: 1989\n",
      "Total clicks in experimental group: 6116\n"
     ]
    }
   ],
   "source": [
    "# Calculate and display group statistics: number of users and total clicks\n",
    "N_control = ab_test[ab_test[\"group\"] == \"con\"][\"user_id\"].count()\n",
    "N_experimental = ab_test[ab_test[\"group\"] == \"exp\"][\"user_id\"].count()\n",
    "\n",
    "X_control = ab_test.groupby(\"group\")[\"click\"].sum().loc[\"con\"]\n",
    "X_experimental = ab_test.groupby(\"group\")[\"click\"].sum().loc[\"exp\"]\n",
    "\n",
    "print(\"Number of users in control group:\", N_control)\n",
    "print(\"Number of users in experimental group:\", N_experimental)\n",
    "print(\"Total clicks in control group:\", X_control)\n",
    "print(\"Total clicks in experimental group:\", X_experimental)"
   ]
  },
  {
   "cell_type": "markdown",
   "metadata": {
    "id": "ufdMuLd2jKPe"
   },
   "source": [
    "## 3. Calculating Estimates & Z-Test Values"
   ]
  },
  {
   "cell_type": "code",
   "execution_count": 6,
   "metadata": {
    "colab": {
     "base_uri": "https://localhost:8080/"
    },
    "id": "5xrXs0wlilAa",
    "outputId": "11560720-bf77-4d2c-cf11-bd8e4e34710d"
   },
   "outputs": [
    {
     "name": "stdout",
     "output_type": "stream",
     "text": [
      "Click probability estimate in control group: 0.1989\n",
      "Click probability estimate in experimental group: 0.6116\n",
      "\n",
      "Pooled click probability estimate: 0.4052\n",
      "Pooled click variance estimate: 0.0\n"
     ]
    }
   ],
   "source": [
    "# Calculate and display click probability estimates for both groups\n",
    "con_p_hat = X_control / N_control\n",
    "exp_p_hat = X_experimental / N_experimental\n",
    "print(\"Click probability estimate in control group:\", con_p_hat)\n",
    "print(\"Click probability estimate in experimental group:\", exp_p_hat, end=\"\\n\\n\")\n",
    "\n",
    "# Calculate and display pooled click probability and variance estimates\n",
    "pooled_p_hat = (X_control + X_experimental) / (N_control + N_experimental)\n",
    "pooled_var_hat = pooled_p_hat * (1-pooled_p_hat) * (1/N_control + 1/N_experimental)\n",
    "print(\"Pooled click probability estimate:\", pooled_p_hat.round(4))\n",
    "print(\"Pooled click variance estimate:\", pooled_var_hat.round(4))"
   ]
  },
  {
   "cell_type": "code",
   "execution_count": 7,
   "metadata": {
    "colab": {
     "base_uri": "https://localhost:8080/"
    },
    "id": "r2Ib6yC0juD8",
    "outputId": "5bf55e31-1586-4d24-a38c-dc0623fa60f7"
   },
   "outputs": [
    {
     "name": "stdout",
     "output_type": "stream",
     "text": [
      "Standard error: 0.0069\n",
      "Z-statistic: -59.44\n",
      "Z-critical value: 1.96\n"
     ]
    }
   ],
   "source": [
    "# Calculate and display standard error, Z-score, and Z-critical value\n",
    "standard_error = np.sqrt(pooled_var_hat)\n",
    "print(\"Standard error:\", standard_error.round(4))\n",
    "\n",
    "z_statistic = (con_p_hat-exp_p_hat) / standard_error\n",
    "print(\"Z-statistic:\", z_statistic.round(2))\n",
    "\n",
    "z_critical = norm.ppf(1 - alpha/2)\n",
    "print(\"Z-critical value:\", z_critical.round(2))"
   ]
  },
  {
   "cell_type": "markdown",
   "metadata": {},
   "source": [
    "## 4. Checking & Visualizing Statistical Significance"
   ]
  },
  {
   "cell_type": "code",
   "execution_count": 8,
   "metadata": {
    "colab": {
     "base_uri": "https://localhost:8080/"
    },
    "id": "8fQElRE_jz7K",
    "outputId": "153711da-0e48-481f-a156-af10148092f4"
   },
   "outputs": [
    {
     "name": "stdout",
     "output_type": "stream",
     "text": [
      "P-value: 0.0\n",
      "Statistical significance found! The observed difference between the control and experimental groups is unlikely due to chance.\n"
     ]
    }
   ],
   "source": [
    "# Define and apply function to check statistical significance\n",
    "def check_statistical_significance(test_statistic, significance_level):\n",
    "    \n",
    "    p_value = 2 * norm.sf(abs(test_statistic))\n",
    "    print(f\"P-value: {p_value}\")\n",
    "\n",
    "    if p_value <= significance_level:\n",
    "        print(\"Statistical significance found! The observed difference between the control and experimental groups is unlikely due to chance.\")\n",
    "    else:\n",
    "        print(\"No statistical significance found! The observed difference between the control and experimental groups could be due to chance.\")\n",
    "\n",
    "check_statistical_significance(z_statistic, alpha)"
   ]
  },
  {
   "cell_type": "code",
   "execution_count": 9,
   "metadata": {
    "colab": {
     "base_uri": "https://localhost:8080/",
     "height": 493
    },
    "id": "RwDXJXZxh21O",
    "outputId": "9f3d26d5-8636-438d-fb3d-adff78149515"
   },
   "outputs": [
    {
     "data": {
      "image/png": "[encoded data removed]",
      "text/plain": [
       "<Figure size 640x480 with 1 Axes>"
      ]
     },
     "metadata": {},
     "output_type": "display_data"
    }
   ],
   "source": [
    "# Define standard normal distribution and calculate x- and y-values\n",
    "mean = 0\n",
    "std_dev = 1\n",
    "x_values = np.linspace(mean - 3*std_dev, mean + 3*std_dev, 100)\n",
    "y_values = norm.pdf(x_values, mean, std_dev)\n",
    "\n",
    "\n",
    "# Plot standard normal distribution with rejection regions and Z-test values\n",
    "plt.plot(x_values, y_values, label='Standard Normal Distribution')\n",
    "plt.fill_between(x_values, y_values, where=(x_values > z_critical) | (x_values < -z_critical),\n",
    "                 label='Rejection Regions', color='red', alpha=0.5)\n",
    "\n",
    "plt.axvline(z_statistic, color='green', linestyle='dashed', linewidth=2, label=f'Z-Statistic')\n",
    "plt.axvline(z_critical, color='blue', linestyle='dashed', linewidth=1, label=f'Z-Critical Values')\n",
    "plt.axvline(-z_critical, color='blue', linestyle='dashed', linewidth=1)\n",
    "\n",
    "plt.title('Standard Normal Distribution with Rejection Regions', weight='bold')\n",
    "plt.ylabel('Probability Density')\n",
    "\n",
    "plt.legend()\n",
    "plt.show()"
   ]
  },
  {
   "cell_type": "markdown",
   "metadata": {
    "id": "5rCQXPgUkTpT"
   },
   "source": [
    "## 5. Checking Practical Significance"
   ]
  },
  {
   "cell_type": "code",
   "execution_count": 10,
   "metadata": {
    "colab": {
     "base_uri": "https://localhost:8080/"
    },
    "id": "SXacBc8mkFUK",
    "outputId": "fc8d16fc-afde-4864-d24d-a059ee71898b"
   },
   "outputs": [
    {
     "name": "stdout",
     "output_type": "stream",
     "text": [
      "Confidence interval: [0.3991, 0.4263]\n"
     ]
    }
   ],
   "source": [
    "# Calculate and display confidence interval for the two-sample Z-test\n",
    "confidence_interval = [round((exp_p_hat-con_p_hat) - standard_error*z_critical, 4),\n",
    "                       round((exp_p_hat-con_p_hat) + standard_error*z_critical, 4)]\n",
    "\n",
    "print(\"Confidence interval:\", confidence_interval)"
   ]
  },
  {
   "cell_type": "code",
   "execution_count": 11,
   "metadata": {},
   "outputs": [
    {
     "name": "stdout",
     "output_type": "stream",
     "text": [
      "The observed difference between the control and experimental groups is practically significant.\n"
     ]
    }
   ],
   "source": [
    "# Define and apply function to check practical significance\n",
    "def check_practical_significance(min_detectable_effect, confidence_interval):\n",
    "    \n",
    "    lower_bound_CI = confidence_interval[0]\n",
    "    \n",
    "    if lower_bound_CI >= min_detectable_effect:\n",
    "        print(\"The observed difference between the control and experimental groups is practically significant.\")\n",
    "    else:\n",
    "        print(\"The observed difference between the control and experimental groups is not practically significant.\")\n",
    "\n",
    "check_practical_significance(delta, confidence_interval)"
   ]
  }
 ],
 "metadata": {
  "colab": {
   "provenance": []
  },
  "kernelspec": {
   "display_name": "Python 3 (ipykernel)",
   "language": "python",
   "name": "python3"
  },
  "language_info": {
   "codemirror_mode": {
    "name": "ipython",
    "version": 3
   },
   "file_extension": ".py",
   "mimetype": "text/x-python",
   "name": "python",
   "nbconvert_exporter": "python",
   "pygments_lexer": "ipython3",
   "version": "3.12.7"
  }
 },
 "nbformat": 4,
 "nbformat_minor": 4
}
